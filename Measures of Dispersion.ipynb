{
  "nbformat": 4,
  "nbformat_minor": 0,
  "metadata": {
    "colab": {
      "provenance": [],
      "include_colab_link": true
    },
    "kernelspec": {
      "name": "python3",
      "display_name": "Python 3"
    },
    "language_info": {
      "name": "python"
    }
  },
  "cells": [
    {
      "cell_type": "markdown",
      "metadata": {
        "id": "view-in-github",
        "colab_type": "text"
      },
      "source": [
        "<a href=\"https://colab.research.google.com/github/Navya04Shah/Projects/blob/main/Measures%20of%20Dispersion.ipynb\" target=\"_parent\"><img src=\"https://colab.research.google.com/assets/colab-badge.svg\" alt=\"Open In Colab\"/></a>"
      ]
    },
    {
      "cell_type": "code",
      "execution_count": 1,
      "metadata": {
        "id": "zdi1odlmCKL1"
      },
      "outputs": [],
      "source": [
        "#The Python code to calculate the variance, standard deviation, range, and interquartile range (IQR):\n",
        "#Problem Statement : Imagine you're developing an AI model to predict house prices based on various features such as size, location, and number of rooms.\n"
      ]
    },
    {
      "cell_type": "code",
      "source": [
        "#Import necessary Libraries\n",
        "import numpy as np\n",
        "import scipy.stats as stats"
      ],
      "metadata": {
        "id": "XqlTHDYACdct"
      },
      "execution_count": 2,
      "outputs": []
    },
    {
      "cell_type": "code",
      "source": [
        "# House prices dataset\n",
        "house_prices = np.array([300000, 350000, 400000, 450000, 500000, 550000, 600000, 650000, 700000, 750000])\n"
      ],
      "metadata": {
        "id": "23kCOLlGCnPc"
      },
      "execution_count": 3,
      "outputs": []
    },
    {
      "cell_type": "code",
      "source": [
        "# Calculating mean\n",
        "mean_price = np.mean(house_prices)\n",
        "\n",
        "# Calculating variance\n",
        "variance_price = np.var(house_prices)\n",
        "\n",
        "# Calculating standard deviation\n",
        "std_deviation_price = np.std(house_prices)\n",
        "\n",
        "# Calculating range\n",
        "range_price = np.ptp(house_prices)\n",
        "\n",
        "# Calculating interquartile range (IQR)\n",
        "q1 = np.percentile(house_prices, 25)\n",
        "q3 = np.percentile(house_prices, 75)\n",
        "iqr_price = q3 - q1\n"
      ],
      "metadata": {
        "id": "x-394dG_Cq2Y"
      },
      "execution_count": 4,
      "outputs": []
    },
    {
      "cell_type": "code",
      "source": [
        "# Displaying the results\n",
        "print(\"House Prices:\", house_prices)\n",
        "print(\"Mean Price:\", mean_price)\n",
        "print(\"Variance:\", variance_price)\n",
        "print(\"Standard Deviation:\", std_deviation_price)\n",
        "print(\"Range:\", range_price)\n",
        "print(\"Interquartile Range (IQR):\", iqr_price)"
      ],
      "metadata": {
        "colab": {
          "base_uri": "https://localhost:8080/"
        },
        "id": "orxsuaYJCxlf",
        "outputId": "8bc6a71a-f074-4ac9-f8e5-e5a4932ecaa4"
      },
      "execution_count": 5,
      "outputs": [
        {
          "output_type": "stream",
          "name": "stdout",
          "text": [
            "House Prices: [300000 350000 400000 450000 500000 550000 600000 650000 700000 750000]\n",
            "Mean Price: 525000.0\n",
            "Variance: 20625000000.0\n",
            "Standard Deviation: 143614.0661634507\n",
            "Range: 450000\n",
            "Interquartile Range (IQR): 225000.0\n"
          ]
        }
      ]
    }
  ]
}