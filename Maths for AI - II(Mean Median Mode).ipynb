{
  "nbformat": 4,
  "nbformat_minor": 0,
  "metadata": {
    "colab": {
      "provenance": [],
      "include_colab_link": true
    },
    "kernelspec": {
      "name": "python3",
      "display_name": "Python 3"
    },
    "language_info": {
      "name": "python"
    }
  },
  "cells": [
    {
      "cell_type": "markdown",
      "metadata": {
        "id": "view-in-github",
        "colab_type": "text"
      },
      "source": [
        "<a href=\"https://colab.research.google.com/github/Navya04Shah/Projects/blob/main/Maths%20for%20AI%20-%20II(Mean%20Median%20Mode).ipynb\" target=\"_parent\"><img src=\"https://colab.research.google.com/assets/colab-badge.svg\" alt=\"Open In Colab\"/></a>"
      ]
    },
    {
      "cell_type": "code",
      "execution_count": 1,
      "metadata": {
        "id": "60rcOoTMO6O-"
      },
      "outputs": [],
      "source": [
        "#Import libraries\n",
        "import numpy as np\n",
        "import pandas as pd # data processing, CSV file I/O (e.g. pd.read_csv)\n",
        "import seaborn as sns\n",
        "import matplotlib.pyplot as plt\n",
        "from scipy.stats import norm"
      ]
    },
    {
      "cell_type": "code",
      "source": [
        "from google.colab import drive\n",
        "drive.mount('/content/drive')"
      ],
      "metadata": {
        "id": "Nyta-Ots3TGJ",
        "outputId": "bd78321a-b731-4566-b8fd-9b314b5b9a62",
        "colab": {
          "base_uri": "https://localhost:8080/"
        }
      },
      "execution_count": 2,
      "outputs": [
        {
          "output_type": "stream",
          "name": "stdout",
          "text": [
            "Mounted at /content/drive\n"
          ]
        }
      ]
    },
    {
      "cell_type": "code",
      "source": [
        "from google.colab import drive #skip this step\n",
        "\n",
        "# Mount Google Drive\n",
        "drive.mount('/content/drive')\n"
      ],
      "metadata": {
        "colab": {
          "base_uri": "https://localhost:8080/"
        },
        "id": "slYpwzLbPwNj",
        "outputId": "2f60be09-d7ce-492c-d407-6090ae991520"
      },
      "execution_count": 3,
      "outputs": [
        {
          "output_type": "stream",
          "name": "stdout",
          "text": [
            "Drive already mounted at /content/drive; to attempt to forcibly remount, call drive.mount(\"/content/drive\", force_remount=True).\n"
          ]
        }
      ]
    },
    {
      "cell_type": "code",
      "source": [
        "import pandas as pd\n",
        "\n",
        "# Path to the CSV file in Google Drive\n",
        "file_path = '/content/drive/MyDrive/SOCR-HeightWeight.csv'\n",
        "\n",
        "# Read the CSV file\n",
        "df = pd.read_csv(file_path)\n",
        "\n",
        "# Display the first few rows of the dataframe\n",
        "print(df.head())\n"
      ],
      "metadata": {
        "colab": {
          "base_uri": "https://localhost:8080/"
        },
        "id": "zjoX60JVQLGA",
        "outputId": "6ba4a21c-75de-4577-8eba-65a5fa8b32d4"
      },
      "execution_count": 4,
      "outputs": [
        {
          "output_type": "stream",
          "name": "stdout",
          "text": [
            "   Index  Height(Inches)  Weight(Pounds)\n",
            "0      1        65.78331        112.9925\n",
            "1      2        71.51521        136.4873\n",
            "2      3        69.39874        153.0269\n",
            "3      4        68.21660        142.3354\n",
            "4      5        67.78781        144.2971\n"
          ]
        }
      ]
    },
    {
      "cell_type": "code",
      "source": [
        "#check info about dataset\n",
        "df.info()"
      ],
      "metadata": {
        "colab": {
          "base_uri": "https://localhost:8080/"
        },
        "id": "KyfOHJzCQanp",
        "outputId": "8f16973a-01d9-4272-dc4b-8d5f281903e6"
      },
      "execution_count": 5,
      "outputs": [
        {
          "output_type": "stream",
          "name": "stdout",
          "text": [
            "<class 'pandas.core.frame.DataFrame'>\n",
            "RangeIndex: 25000 entries, 0 to 24999\n",
            "Data columns (total 3 columns):\n",
            " #   Column          Non-Null Count  Dtype  \n",
            "---  ------          --------------  -----  \n",
            " 0   Index           25000 non-null  int64  \n",
            " 1   Height(Inches)  25000 non-null  float64\n",
            " 2   Weight(Pounds)  25000 non-null  float64\n",
            "dtypes: float64(2), int64(1)\n",
            "memory usage: 586.1 KB\n"
          ]
        }
      ]
    },
    {
      "cell_type": "code",
      "source": [
        "#cut only 'Height' column for our data\n",
        "height = df.iloc[:, 1]\n",
        "print(height)"
      ],
      "metadata": {
        "colab": {
          "base_uri": "https://localhost:8080/"
        },
        "id": "Owr8RfRaQh03",
        "outputId": "3728a4a2-6540-47f4-e080-7529e36af9c0"
      },
      "execution_count": 6,
      "outputs": [
        {
          "output_type": "stream",
          "name": "stdout",
          "text": [
            "0        65.78331\n",
            "1        71.51521\n",
            "2        69.39874\n",
            "3        68.21660\n",
            "4        67.78781\n",
            "           ...   \n",
            "24995    69.50215\n",
            "24996    64.54826\n",
            "24997    64.69855\n",
            "24998    67.52918\n",
            "24999    68.87761\n",
            "Name: Height(Inches), Length: 25000, dtype: float64\n"
          ]
        }
      ]
    },
    {
      "cell_type": "code",
      "source": [
        "#Let's find the mean\n",
        "mean = height.mean()\n",
        "print(mean)"
      ],
      "metadata": {
        "colab": {
          "base_uri": "https://localhost:8080/"
        },
        "id": "vlQ1TtOhQvDV",
        "outputId": "63551691-e6cc-45f9-b4a8-eed214ccb7f4"
      },
      "execution_count": 7,
      "outputs": [
        {
          "output_type": "stream",
          "name": "stdout",
          "text": [
            "67.99311359679999\n"
          ]
        }
      ]
    },
    {
      "cell_type": "code",
      "source": [
        "#get median\n",
        "median = height.median()\n",
        "print(median)"
      ],
      "metadata": {
        "colab": {
          "base_uri": "https://localhost:8080/"
        },
        "id": "nLg3FOedQ4x8",
        "outputId": "eacba015-d513-453a-e3f0-d718d940120f"
      },
      "execution_count": 8,
      "outputs": [
        {
          "output_type": "stream",
          "name": "stdout",
          "text": [
            "67.9957\n"
          ]
        }
      ]
    },
    {
      "cell_type": "code",
      "source": [
        "#Get the mode\n",
        "mode = height.mode()[9] #It will give the last one\n",
        "print(mode)"
      ],
      "metadata": {
        "colab": {
          "base_uri": "https://localhost:8080/"
        },
        "id": "6rEu0A9VRCdN",
        "outputId": "b35b66b1-f36e-4c27-d8be-7fb89c149a0f"
      },
      "execution_count": 9,
      "outputs": [
        {
          "output_type": "stream",
          "name": "stdout",
          "text": [
            "68.9783\n"
          ]
        }
      ]
    },
    {
      "cell_type": "code",
      "source": [],
      "metadata": {
        "id": "ZFY8r6TrCD18"
      },
      "execution_count": 9,
      "outputs": []
    }
  ]
}